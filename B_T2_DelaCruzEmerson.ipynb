{
  "nbformat": 4,
  "nbformat_minor": 0,
  "metadata": {
    "colab": {
      "provenance": [],
      "authorship_tag": "ABX9TyNpGx6gDK+x72H5EEpJePt5",
      "include_colab_link": true
    },
    "kernelspec": {
      "name": "python3",
      "display_name": "Python 3"
    },
    "language_info": {
      "name": "python"
    }
  },
  "cells": [
    {
      "cell_type": "markdown",
      "metadata": {
        "id": "view-in-github",
        "colab_type": "text"
      },
      "source": [
        "<a href=\"https://colab.research.google.com/github/Eme04I/hola_mundo/blob/main/B_T2_DelaCruzEmerson.ipynb\" target=\"_parent\"><img src=\"https://colab.research.google.com/assets/colab-badge.svg\" alt=\"Open In Colab\"/></a>"
      ]
    },
    {
      "cell_type": "code",
      "execution_count": null,
      "metadata": {
        "colab": {
          "base_uri": "https://localhost:8080/"
        },
        "id": "5LuPSgyqsW6U",
        "outputId": "e138787d-f5a8-4320-973b-e325ff61c9fd"
      },
      "outputs": [
        {
          "output_type": "stream",
          "name": "stdout",
          "text": [
            "hola mundo\n"
          ]
        }
      ],
      "source": [
        "#ejercicio 1\n",
        "#crea un programa que imprima \"hola mundo\"\n",
        "print(\"hola mundo\")"
      ]
    },
    {
      "cell_type": "code",
      "source": [
        "#ejercicio 2\n",
        "#los int, input sirven solo con numeros no con letras\n",
        "h = int(input(\"ingrese un numero\"))\n",
        "g =  int(input(\"ingrese un numero\"))\n",
        "#este segundo literal suma los dos valores que son \"h y g\"\n",
        "sum = h + g\n",
        "#tercer literal imprime el resultado\n",
        "print(\"la suma es \", sum)"
      ],
      "metadata": {
        "id": "w1m5HnlLsxGc",
        "colab": {
          "base_uri": "https://localhost:8080/"
        },
        "outputId": "e8d0f460-b822-4a49-c0e6-04c6703134bc"
      },
      "execution_count": 2,
      "outputs": [
        {
          "output_type": "stream",
          "name": "stdout",
          "text": [
            "ingrese un numero202\n",
            "ingrese un numero202\n",
            "la suma es  404\n"
          ]
        }
      ]
    },
    {
      "cell_type": "code",
      "source": [
        "#ejercicio 3\n",
        "#el int, input sirven solo para ingresar numeros\n",
        "num = int(input(\"Por favor, ingresa un número entero: \"))\n",
        "if num % 2 == 0:\n",
        "    print(f\"El número {num} es par.\")\n",
        "else:\n",
        "    print(f\"El número {num} es impar.\")\n",
        "#if sirve para introducir la informaciòn que vamos ejecutar\n",
        "#% para dividir con residuo\n",
        "#== saber si el numero es igual"
      ],
      "metadata": {
        "colab": {
          "base_uri": "https://localhost:8080/"
        },
        "id": "dPB6UuLSgwiD",
        "outputId": "e743b964-8d33-4117-8f76-e852ce71b01c"
      },
      "execution_count": 3,
      "outputs": [
        {
          "output_type": "stream",
          "name": "stdout",
          "text": [
            "Por favor, ingresa un número entero: 20\n",
            "El número 20 es par.\n"
          ]
        }
      ]
    },
    {
      "cell_type": "code",
      "source": [
        "#ejercicio 4\n",
        "#los int, input ingresamos informacion con numeros\n",
        "num1 = int(input(\"ingresa el primer número: \"))\n",
        "num2 = int(input(\"ingresa el segundo número: \"))\n",
        "\n",
        "#variables\n",
        "suma = num1 + num2\n",
        "resta = num1 - num2\n",
        "multiplicacion = num1 * num2\n",
        "if num2 != 0:\n",
        "      division = num1 / num2\n",
        "else:\n",
        "      division = \"No se puede dividir entre cero.\"\n",
        "#si el numero2 es diferente de 0 ejecuta caso contrario imprime nose puede dividir\n",
        "\n",
        "print(\"Resultados:\")\n",
        "print(f\"Suma: {suma}\")\n",
        "print(f\"Resta: {resta}\")\n",
        "print(f\"Multiplicación: {multiplicacion}\")\n",
        "print(f\"División: {division}\")\n"
      ],
      "metadata": {
        "id": "nh0FP8c8hENZ",
        "colab": {
          "base_uri": "https://localhost:8080/"
        },
        "outputId": "9b8e1922-1b81-4e53-d51b-ca8ff4940b07"
      },
      "execution_count": 17,
      "outputs": [
        {
          "output_type": "stream",
          "name": "stdout",
          "text": [
            "ingresa el primer número: 20\n",
            "ingresa el segundo número: 20\n",
            "Resultados:\n",
            "Suma: 40\n",
            "Resta: 0\n",
            "Multiplicación: 400\n",
            "División: 1.0\n"
          ]
        }
      ]
    },
    {
      "cell_type": "code",
      "source": [
        "#ejercicio 5\n",
        "#float devuelve una representaciòn de coma flotante de un nùmero\n",
        "#input ingresa datos solo con nùmero\n",
        "num1 = float(input(\"ingrese el número: \"))\n",
        "num2 = float(input(\"ingrese el número: \"))\n",
        "num3 = float(input(\"ingrese el número: \"))\n",
        "#el mayor = numero1 se usa para que tome como mayor la primera variable o el primer numero ingresado\n",
        "mayor = num1\n",
        "#esta condicion se usa para comparar el numero 2 con el numero 1 si es mayor este lo reemplaza y asi mismo con el numero3\n",
        "if num2 > mayor:\n",
        "    mayor = num2\n",
        "if num3 > mayor:\n",
        "    mayor = num3\n",
        "\n",
        "print(f\"El número mayor es: {mayor}\")"
      ],
      "metadata": {
        "id": "JgiQmYnghiFq",
        "colab": {
          "base_uri": "https://localhost:8080/"
        },
        "outputId": "126a8537-de5c-4d46-8958-8b376110c717"
      },
      "execution_count": 18,
      "outputs": [
        {
          "output_type": "stream",
          "name": "stdout",
          "text": [
            "ingrese el  número: 20\n",
            "ingrese el número: 20\n",
            "ingrese el número: 20\n",
            "El número mayor es: 20.0\n"
          ]
        }
      ]
    },
    {
      "cell_type": "code",
      "source": [
        "#ejercicio 6\n",
        "# import match sirve para importar el archivo\n",
        "import math\n",
        "# el radio solicita un nùmero\n",
        "radio =float(input(\"ingresa el radio del círculo: \"))\n",
        "# Calcular el área, área = pi* radio^2, el **se usa para hacer potencia o exponencial\n",
        "area = math.pi * radio**2\n",
        "print(f\"El área del círculo con radio{radio} es: {area}\")\n",
        "\n"
      ],
      "metadata": {
        "colab": {
          "base_uri": "https://localhost:8080/"
        },
        "id": "3nXqYyDRkrgY",
        "outputId": "c1f5cdf5-4df8-47fd-ef9f-af1a74b6af76"
      },
      "execution_count": 21,
      "outputs": [
        {
          "output_type": "stream",
          "name": "stdout",
          "text": [
            "ingresa el radio del círculo: 605\n",
            "El área del círculo con radio605.0 es: 1149901.451030204\n"
          ]
        }
      ]
    },
    {
      "cell_type": "code",
      "source": [
        "#ejercicio 7\n",
        "grados_celsius = float(input(\"ingrese los grados a convertir: \"))\n",
        "\n",
        "#se multiplican los grados celsius por su formula\n",
        "grados_fahrenheit = (grados_celsius * 9/5) + 32\n",
        "\n",
        "print(\"los grados convertidos son: \",grados_fahrenheit )"
      ],
      "metadata": {
        "colab": {
          "base_uri": "https://localhost:8080/"
        },
        "id": "sLFAj5mNJn_-",
        "outputId": "04ee52ff-075c-4a69-dbf6-333bfaeeb660"
      },
      "execution_count": 22,
      "outputs": [
        {
          "output_type": "stream",
          "name": "stdout",
          "text": [
            "ingrese los grados a convertir: 30\n",
            "los grados convertidos son:  86.0\n"
          ]
        }
      ]
    },
    {
      "cell_type": "code",
      "source": [
        "#ejercicio 8\n",
        "# Definir la función que hace la cuenta\n",
        "def contar_hacia_atras():\n",
        "    # definir el rango desde 10 hasta 0\n",
        "    for i in range(10, 0, -1):\n",
        "        print(i)  # Imprimir el número actual\n",
        "# Llamar a la función para ejecutar el conteo hacia atrás\n",
        "contar_hacia_atras()"
      ],
      "metadata": {
        "colab": {
          "base_uri": "https://localhost:8080/"
        },
        "id": "55HZSezyJy3q",
        "outputId": "46381df1-777d-4444-ceaa-19b88e9a5972"
      },
      "execution_count": 23,
      "outputs": [
        {
          "output_type": "stream",
          "name": "stdout",
          "text": [
            "10\n",
            "9\n",
            "8\n",
            "7\n",
            "6\n",
            "5\n",
            "4\n",
            "3\n",
            "2\n",
            "1\n"
          ]
        }
      ]
    },
    {
      "cell_type": "code",
      "source": [
        "#ejercicio 9\n",
        "def tabla_de_multiplicar(numero):\n",
        "    print(f\"Tabla de multiplicar del {numero}:\")\n",
        "    for i in range(1, 11):  # definir rango desde 1 hasta 10\n",
        "        resultado = numero * i  # Calcular el resultado de la multiplicación\n",
        "        print(f\"{numero} x {i} = {resultado}\")  # Mostrar la multiplicación\n",
        "\n",
        "# Pedir al usuario que introduzca un número\n",
        "numero_ingresado = int(input(\"Introduce un número para mostrar su tabla de multiplicar: \"))\n",
        "\n",
        "# Llamar a la función para mostrar la tabla de multiplicar del número introducido\n",
        "tabla_de_multiplicar(numero_ingresado)"
      ],
      "metadata": {
        "colab": {
          "base_uri": "https://localhost:8080/"
        },
        "id": "1wOHPgK5J-mD",
        "outputId": "c66dc556-b6fb-4a93-c6f7-578ffbc2f924"
      },
      "execution_count": 24,
      "outputs": [
        {
          "output_type": "stream",
          "name": "stdout",
          "text": [
            "Introduce un número para mostrar su tabla de multiplicar: 5\n",
            "Tabla de multiplicar del 5:\n",
            "5 x 1 = 5\n",
            "5 x 2 = 10\n",
            "5 x 3 = 15\n",
            "5 x 4 = 20\n",
            "5 x 5 = 25\n",
            "5 x 6 = 30\n",
            "5 x 7 = 35\n",
            "5 x 8 = 40\n",
            "5 x 9 = 45\n",
            "5 x 10 = 50\n"
          ]
        }
      ]
    },
    {
      "cell_type": "code",
      "source": [
        "#ejercicio 10\n",
        "# Pedir un número\n",
        "numero_usuario = int(input(\"Introduce un número para verificar si es primo: \"))\n",
        "\n",
        "# Verificar si el número es primo\n",
        "if numero_usuario > 1:\n",
        "    # Iterar desde 2 hasta la mitad del número\n",
        "    for i in range(2, numero_usuario):\n",
        "        if (numero_usuario % i) == 0:\n",
        "            print(f\"{numero_usuario} no es un número primo.\")\n",
        "            break\n",
        "    else:\n",
        "        print(f\"{numero_usuario} es un número primo.\")\n",
        "else:\n",
        "    print(f\"{numero_usuario} no es un número primo.\")"
      ],
      "metadata": {
        "colab": {
          "base_uri": "https://localhost:8080/"
        },
        "id": "gxZr0-RjKKY1",
        "outputId": "2de69d82-23b7-4371-f865-6c8d3a714eab"
      },
      "execution_count": 25,
      "outputs": [
        {
          "output_type": "stream",
          "name": "stdout",
          "text": [
            "Introduce un número para verificar si es primo: 20\n",
            "20 no es un número primo.\n"
          ]
        }
      ]
    },
    {
      "cell_type": "code",
      "source": [
        "#ejercicio 11\n",
        "# Pedir al usuario un número límite\n",
        "limite = int(input(\"Introduce un número límite: \"))\n",
        "\n",
        "# Inicializar la variable para almacenar la suma\n",
        "suma = 0\n",
        "\n",
        "# Iterar desde 1 hasta el número límite\n",
        "for i in range(1, limite + 1):\n",
        "    suma += i  # Sumar el número actual a la suma total\n",
        "\n",
        "# Mostrar la suma de los números naturales hasta el número límite\n",
        "print(f\"La suma de todos los números naturales hasta {limite} es: {suma}\")"
      ],
      "metadata": {
        "colab": {
          "base_uri": "https://localhost:8080/"
        },
        "id": "C-6pwm7lKV0K",
        "outputId": "6ee91423-fcdb-4e61-f04c-3b28a4eded53"
      },
      "execution_count": 26,
      "outputs": [
        {
          "output_type": "stream",
          "name": "stdout",
          "text": [
            "Introduce un número límite: 100\n",
            "La suma de todos los números naturales hasta 100 es: 5050\n"
          ]
        }
      ]
    },
    {
      "cell_type": "code",
      "source": [
        "#ejercicio 12\n",
        "# Pedir al usuario una cadena\n",
        "cadena = input(\"Introduce una cadena para invertirla: \")\n",
        "\n",
        "# Inicializar una cadena vacía para almacenar la cadena invertida\n",
        "cadena_invertida = \"\"\n",
        "\n",
        "# Iterar a través de la cadena en orden inverso\n",
        "for i in range(len(cadena) - 1, -1, -1):\n",
        "    cadena_invertida += cadena[i]  # Agregar el carácter actual al final de la cadena invertida\n",
        "\n",
        "# Mostrar la cadena invertida\n",
        "print(\"La cadena invertida es:\", cadena_invertida)"
      ],
      "metadata": {
        "colab": {
          "base_uri": "https://localhost:8080/"
        },
        "id": "V7sDk3JXKh9V",
        "outputId": "1d1596e5-a9fb-41c8-ec9e-79d2328bd92e"
      },
      "execution_count": 27,
      "outputs": [
        {
          "output_type": "stream",
          "name": "stdout",
          "text": [
            "Introduce una cadena para invertirla: 20\n",
            "La cadena invertida es: 02\n"
          ]
        }
      ]
    },
    {
      "cell_type": "code",
      "source": [
        "#ejercicio 13\n",
        "# Pedir una cadena\n",
        "cadena = input(\"Introduce una cadena: \")\n",
        "\n",
        "# Inicializar contador de vocales\n",
        "contador_vocales = 0\n",
        "\n",
        "# Iterar sobre cada carácter en la cadena\n",
        "for caracter in cadena:\n",
        "    # Verificar si el carácter es una vocal (mayúscula o minúscula)\n",
        "    if caracter.lower() in \"aeiouáéíóú\":\n",
        "        # Incrementar el contador de vocales\n",
        "        contador_vocales += 1\n",
        "\n",
        "# Imprimir el resultado\n",
        "print(\"El número de vocales en la cadena es:\", contador_vocales)"
      ],
      "metadata": {
        "colab": {
          "base_uri": "https://localhost:8080/"
        },
        "id": "U3JIOuvWKsQZ",
        "outputId": "b5cab750-f63b-494e-d69e-73f43e4eb957"
      },
      "execution_count": 28,
      "outputs": [
        {
          "output_type": "stream",
          "name": "stdout",
          "text": [
            "Introduce una cadena: 20\n",
            "El número de vocales en la cadena es: 0\n"
          ]
        }
      ]
    },
    {
      "cell_type": "code",
      "source": [
        "#ejercicio 14\n",
        "# Pedir una cadena\n",
        "cadena = input(\"Introduce una cadena: \")\n",
        "\n",
        "# Eliminar espacios en blanco y convertir la cadena a minúsculas\n",
        "cadena = cadena.replace(\" \", \"\").lower()\n",
        "\n",
        "# Verificar si la cadena es palíndromo\n",
        "if cadena == cadena[::-1]:\n",
        "    print(\"La cadena es un palíndromo.\")\n",
        "else:\n",
        "    print(\"La cadena no es un palíndromo.\")\n"
      ],
      "metadata": {
        "colab": {
          "base_uri": "https://localhost:8080/"
        },
        "id": "wtcZwRioK5R2",
        "outputId": "51ac4ba7-5f77-4b18-8f89-07d5c5283553"
      },
      "execution_count": 29,
      "outputs": [
        {
          "output_type": "stream",
          "name": "stdout",
          "text": [
            "Introduce una cadena: 520\n",
            "La cadena no es un palíndromo.\n"
          ]
        }
      ]
    },
    {
      "cell_type": "code",
      "source": [
        "#ejercicio 15\n",
        "import random\n",
        "\n",
        "# Generar y mostrar 5 números aleatorios entre 1 y 100\n",
        "for _ in range(5):\n",
        "    numero_aleatorio = random.randint(1, 100)\n",
        "    print(numero_aleatorio)\n"
      ],
      "metadata": {
        "colab": {
          "base_uri": "https://localhost:8080/"
        },
        "id": "IpwNfmYzLH9T",
        "outputId": "76712dcd-84b1-49f8-d27a-d2e3ff1cb40b"
      },
      "execution_count": 30,
      "outputs": [
        {
          "output_type": "stream",
          "name": "stdout",
          "text": [
            "78\n",
            "68\n",
            "89\n",
            "90\n",
            "58\n"
          ]
        }
      ]
    },
    {
      "cell_type": "code",
      "source": [
        "#ejercicio 16\n",
        "# Pedir al usuario su peso en kilogramos\n",
        "peso = float(input(\"Introduce tu peso en kilogramos: \"))\n",
        "\n",
        "# Pedir al usuario su altura en metros\n",
        "altura = float(input(\"Introduce tu altura en metros: \"))\n",
        "\n",
        "# Calcular el índice de masa corporal\n",
        "imc = peso / (altura ** 2)\n",
        "\n",
        "# Mostrar el resultado\n",
        "print(\"Tu índice de masa corporal (IMC) es:\", imc)"
      ],
      "metadata": {
        "id": "K8yZLzicLO1i"
      },
      "execution_count": null,
      "outputs": []
    }
  ]
}